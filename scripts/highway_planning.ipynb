{
  "nbformat": 4,
  "nbformat_minor": 0,
  "metadata": {
    "colab": {
      "name": "highway-planning.ipynb",
      "version": "0.3.2",
      "provenance": []
    },
    "kernelspec": {
      "name": "python3",
      "display_name": "Python 3"
    }
  },
  "cells": [
    {
      "cell_type": "markdown",
      "metadata": {
        "id": "QKWvMXWMBEJA",
        "colab_type": "text"
      },
      "source": [
        "# Behavioural Planning for Autonomous Highway Driving\n",
        "\n",
        "We plan a trajectory using the _Optimistic Planning for Deterministic systems_ ([OPD](https://hal.inria.fr/hal-00830182)) algorithm.\n",
        "\n",
        "##  Setup\n",
        "\n",
        "We first import useful modules for the environment and agent."
      ]
    },
    {
      "cell_type": "code",
      "metadata": {
        "id": "s-ghXis6A_md",
        "colab_type": "code",
        "colab": {}
      },
      "source": [
        "# Install environment and agent\n",
        "!pip install git+https://github.com/eleurent/highway-env#egg=highway-env  > /dev/null 2>&1\n",
        "!pip install git+https://github.com/eleurent/rl-agents#egg=rl-agents > /dev/null 2>&1\n",
        "\n",
        "# Environment\n",
        "import gym\n",
        "import highway_env\n",
        "\n",
        "# Agent\n",
        "from rl_agents.agents.common.factory import agent_factory\n"
      ],
      "execution_count": 0,
      "outputs": []
    },
    {
      "cell_type": "code",
      "metadata": {
        "id": "AHuuloOYBaFX",
        "colab_type": "code",
        "colab": {}
      },
      "source": [
        "!pip install gym pyvirtualdisplay > /dev/null 2>&1\n",
        "!apt-get install -y xvfb python-opengl ffmpeg > /dev/null 2>&1\n",
        "\n",
        "from IPython import display as ipythondisplay\n",
        "from pyvirtualdisplay import Display\n",
        "from gym.wrappers import Monitor\n",
        "from pathlib import Path\n",
        "import base64\n",
        "from tqdm import tnrange, tqdm\n",
        "\n",
        "display = Display(visible=0, size=(1400, 900))\n",
        "display.start()\n",
        "\n",
        "def show_video():\n",
        "    html = []\n",
        "    for mp4 in Path(\"video\").glob(\"*.mp4\"):\n",
        "        video_b64 = base64.b64encode(mp4.read_bytes())\n",
        "        html.append('''<video alt=\"{}\" autoplay \n",
        "                      loop controls style=\"height: 400px;\">\n",
        "                      <source src=\"data:video/mp4;base64,{}\" type=\"video/mp4\" />\n",
        "                 </video>'''.format(mp4, video_b64.decode('ascii')))\n",
        "    ipythondisplay.display(ipythondisplay.HTML(data=\"<br>\".join(html)))\n"
      ],
      "execution_count": 0,
      "outputs": []
    },
    {
      "cell_type": "markdown",
      "metadata": {
        "id": "oi1SV025BXhB",
        "colab_type": "text"
      },
      "source": [
        "## Run an episode"
      ]
    },
    {
      "cell_type": "code",
      "metadata": {
        "id": "bgNDDWwqCj8l",
        "colab_type": "code",
        "colab": {}
      },
      "source": [
        "# Make environment\n",
        "env = gym.make(\"highway-v0\")\n",
        "env = Monitor(env, './video', force=True, video_callable=lambda episode: True)\n",
        "obs, done = env.reset(), False\n",
        "env.unwrapped.automatic_rendering_callback = env.video_recorder.capture_frame\n",
        "\n",
        "# Make agent\n",
        "agent_config = {\n",
        "    \"__class__\": \"<class 'rl_agents.agents.tree_search.deterministic.DeterministicPlannerAgent'>\",\n",
        "    \"env_preprocessors\": [{\"method\":\"simplify\"}],\n",
        "    \"budget\": 40,\n",
        "    \"gamma\": 0.7\n",
        "}\n",
        "agent = agent_factory(env, agent_config)\n",
        "\n",
        "# Run episode\n",
        "steps = tqdm(range(env.unwrapped.config[\"duration\"]), desc=\"Running\")\n",
        "for _ in steps:\n",
        "    if done:\n",
        "      steps.close()\n",
        "      break\n",
        "    action = agent.act(obs)\n",
        "    obs, reward, done, info = env.step(action)\n",
        "    \n",
        "env.close()\n",
        "show_video()"
      ],
      "execution_count": 0,
      "outputs": []
    }
  ]
}